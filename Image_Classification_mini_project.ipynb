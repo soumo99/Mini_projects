{
  "nbformat": 4,
  "nbformat_minor": 0,
  "metadata": {
    "colab": {
      "name": "Image_Classification_mini_project.ipynb",
      "private_outputs": true,
      "provenance": [],
      "collapsed_sections": [],
      "authorship_tag": "ABX9TyOs8qujfZGYrBVmEWa0t9e/",
      "include_colab_link": true
    },
    "kernelspec": {
      "name": "python3",
      "display_name": "Python 3"
    },
    "language_info": {
      "name": "python"
    }
  },
  "cells": [
    {
      "cell_type": "markdown",
      "metadata": {
        "id": "view-in-github",
        "colab_type": "text"
      },
      "source": [
        "<a href=\"https://colab.research.google.com/github/soumo99/Mini_projects/blob/main/Image_Classification_mini_project.ipynb\" target=\"_parent\"><img src=\"https://colab.research.google.com/assets/colab-badge.svg\" alt=\"Open In Colab\"/></a>"
      ]
    },
    {
      "cell_type": "code",
      "execution_count": null,
      "metadata": {
        "id": "-cmZB3dwBiKi"
      },
      "outputs": [],
      "source": [
        "#Importing the packages\n",
        "import tensorflow as tf\n",
        "from tensorflow import keras\n",
        "from keras.models import sequential\n",
        "from keras.layers import Dense, Flatten,Conv2D,MaxPooling2D,Dropout\n",
        "from tensorflow.keras import layers\n",
        "from tensorflow.keras.utils import to_categorical\n",
        "import numpy as np\n",
        "import matplotlib.pyplot as plt\n",
        "plt.style.use('fivethirtyeight')"
      ]
    },
    {
      "cell_type": "markdown",
      "source": [
        "tensorflow - TensorFlow is a free and open-source software library for machine learning and artificial intelligence. It can be used across a range of tasks but has a particular focus on training and inference of deep neural networks\n",
        "\n",
        "sequential - It allows you to build a model layer by layer.\n",
        "\n",
        "Keras is an open-source software library that provides a Python interface for artificial neural networks. Keras acts as an interface for the TensorFlow library\n",
        "\n",
        "Dense Layer is simple layer of neurons in which each neuron receives input from all the neurons of previous layer, thus called as dense. Dense Layer is used to classify image based on output from convolutional layers\n",
        "\n",
        "Flattening is used to convert all the resultant 2-Dimensional arrays from pooled feature maps into a single long continuous linear vector.\n",
        "\n",
        "MaxPooling - Downsamples the input along its spatial dimensions (height and width) by taking the maximum value over an input window (of size defined by pool_size) for each channel of the input\n",
        "\n",
        "The Dropout layer is a mask that nullifies the contribution of some neurons towards the next layer and leaves unmodified all others.\n",
        "\n",
        "Matplotlib is a plotting library for the Python programming language and its numerical mathematics extension NumPy\n",
        "\n",
        "NumPy is the numerical python used for multidimensional arrays and matrices and is the fundamental package for scientific computing \n",
        "\n",
        "plt.style.use('fivethirtyeight') - which tries to replicate the styles from FiveThirtyEight.com.\n"
      ],
      "metadata": {
        "id": "XEFy5f9KUkuK"
      }
    },
    {
      "cell_type": "code",
      "source": [
        "#Load the data\n",
        "from keras.datasets import cifar10\n",
        "(x_train,y_train),(x_test,y_test) = cifar10.load_data()"
      ],
      "metadata": {
        "id": "6xEvRwvfDBh5"
      },
      "execution_count": null,
      "outputs": []
    },
    {
      "cell_type": "markdown",
      "source": [
        "We loaded the data from the cifar10 datasets and after compiling the data is being downloaded ."
      ],
      "metadata": {
        "id": "XBOU3vbysVe4"
      }
    },
    {
      "cell_type": "code",
      "source": [
        "#Look at the datatypes of the variables \n",
        "print(type(x_train))\n",
        "print(type(y_train))\n",
        "print(type(x_test))\n",
        "print(type(y_test))"
      ],
      "metadata": {
        "id": "sA7jmB9XDV70"
      },
      "execution_count": null,
      "outputs": []
    },
    {
      "cell_type": "markdown",
      "source": [
        "x_train. = 50000 rows of data with 32 by 32 images with depth 3 means rgb channels ||\n",
        "y_train = 50000 rows with 1 columns||\n",
        "x_test = 10000 rows of data with 32 by 32 images and 3 means depth rgb channels||\n",
        "y_test = 10000 rows with 1 columns\n",
        "\n"
      ],
      "metadata": {
        "id": "LJKYYq2HEYVz"
      }
    },
    {
      "cell_type": "code",
      "source": [
        "#Get the shape of the arrays\n",
        "print('x_train shape : ',x_train.shape)\n",
        "print('y_train shape : ',y_train.shape)\n",
        "print('x_test shape : ',x_test.shape)\n",
        "print('y_test shape : ',y_test.shape)"
      ],
      "metadata": {
        "id": "93qwiWRHDmW-"
      },
      "execution_count": null,
      "outputs": []
    },
    {
      "cell_type": "code",
      "source": [
        "#Take a look at the first image as an array\n",
        "#we are viewing the image as an array\n",
        "index=0\n",
        "x_train[index]"
      ],
      "metadata": {
        "id": "WUGO8_uKFEBQ"
      },
      "execution_count": null,
      "outputs": []
    },
    {
      "cell_type": "code",
      "source": [
        "#show images as a picture\n",
        "#The matplotlib function imshow() creates an image from a 2-dimensional numpy array. \n",
        "#imshow function in pytho is used to display the grayscale images \n",
        "img = plt.imshow(x_train[index])"
      ],
      "metadata": {
        "id": "yS7jJ8CBFUyE"
      },
      "execution_count": null,
      "outputs": []
    },
    {
      "cell_type": "code",
      "source": [
        "#Get the image label\n",
        "\n",
        "print('The image label is :',y_train[index])"
      ],
      "metadata": {
        "id": "dBm6sY0FFgxc"
      },
      "execution_count": null,
      "outputs": []
    },
    {
      "cell_type": "code",
      "source": [
        "#Get the image classification\n",
        "\n",
        "classification = ['airplanes','automobile','bird','cat','deer','dog','frog','horse','ship','truck']\n",
        "\n",
        "#Printing the image class\n",
        "print('The image class is : ',classification[y_train[index][0]])"
      ],
      "metadata": {
        "id": "iPfBrr8XFs2r"
      },
      "execution_count": null,
      "outputs": []
    },
    {
      "cell_type": "code",
      "source": [
        "index=10\n",
        "x_train[index]"
      ],
      "metadata": {
        "id": "qDmCyIGzGuQF"
      },
      "execution_count": null,
      "outputs": []
    },
    {
      "cell_type": "code",
      "source": [
        "img = plt.imshow(x_train[index])"
      ],
      "metadata": {
        "id": "uN8sg1_GG2UH"
      },
      "execution_count": null,
      "outputs": []
    },
    {
      "cell_type": "code",
      "source": [
        "print('The image label is :',y_train[index])"
      ],
      "metadata": {
        "id": "Uqw70x2BG9yR"
      },
      "execution_count": null,
      "outputs": []
    },
    {
      "cell_type": "code",
      "source": [
        "classification = ['airplanes','automobile','bird','cat','deer','dog','frog','horse','ship','truck']\n",
        "\n",
        "#Printing the image class\n",
        "print('The image class is : ',classification[y_train[index][0]])"
      ],
      "metadata": {
        "id": "nMGlirwQHHjL"
      },
      "execution_count": null,
      "outputs": []
    },
    {
      "cell_type": "code",
      "source": [
        "#convert labels into a set of 10 numbers to input into the neural network\n",
        "#A one hot encoding is a representation of categorical variables as binary vectors.\n",
        "y_train_one_hot = to_categorical(y_train)\n",
        "y_test_one_hot = to_categorical(y_test)"
      ],
      "metadata": {
        "id": "70UDokHBHSJM"
      },
      "execution_count": null,
      "outputs": []
    },
    {
      "cell_type": "markdown",
      "source": [
        "All the columns were 0 except the one column that will be corresponding to the label"
      ],
      "metadata": {
        "id": "bgkCs8yEJYRl"
      }
    },
    {
      "cell_type": "code",
      "source": [
        "#Print the new labels\n",
        "\n",
        "print(y_train_one_hot)"
      ],
      "metadata": {
        "id": "ZI54XAugHkVC"
      },
      "execution_count": null,
      "outputs": []
    },
    {
      "cell_type": "markdown",
      "source": [
        "This set of 10 numbers corresponds to that label 4 "
      ],
      "metadata": {
        "id": "ut8l6wZeJ97w"
      }
    },
    {
      "cell_type": "code",
      "source": [
        "#print the new label of the image/picture above\n",
        "\n",
        "print('The one hot label is :',y_train_one_hot[index])"
      ],
      "metadata": {
        "id": "0_Rn7mfqJoLL"
      },
      "execution_count": null,
      "outputs": []
    },
    {
      "cell_type": "code",
      "source": [
        "#Normalize(scaling down) the pixels to be values between 0 and 1\n",
        "#The pixels are basically activated from 0 to 255 depending upon how bright the individual pixel , so we are scaling it down so that the values range from 0 to 1\n",
        "x_test = x_test / 255"
      ],
      "metadata": {
        "id": "tWR5c54AKSGA"
      },
      "execution_count": null,
      "outputs": []
    },
    {
      "cell_type": "code",
      "source": [
        "x_train[index]"
      ],
      "metadata": {
        "id": "WtnXT2EYKkj6"
      },
      "execution_count": null,
      "outputs": []
    },
    {
      "cell_type": "markdown",
      "source": [
        "Adding the layers ,\n",
        "Everytime we have have a conv2d layer we will have a maxpooling layer which simplfies the result and reduces it to the essential information"
      ],
      "metadata": {
        "id": "n1pfQOw5B9Ix"
      }
    },
    {
      "cell_type": "code",
      "source": [
        "#create the model architecture\n",
        "from keras.models import Sequential\n",
        "\n",
        "model = Sequential()\n",
        "\n",
        "#add the first layer \n",
        "#Conv2D is a convolution layer that takes up a kernel and perform convolutions on the image matrix \n",
        "#Convolutions means applying that kernel in each part of the matrix and doing some arithmetical operations \n",
        "model.add(Conv2D(32,(5,5),activation='relu',input_shape=(32,32,3)))\n",
        "\n",
        "#creating another layer , Add a pooling layer\n",
        "#MaxPooling is basically taking the maximum value within a matrix \n",
        "model.add(MaxPooling2D(pool_size = (2,2)))\n",
        "\n",
        "#Add another layer , Adding a convolution layer\n",
        "model.add(Conv2D(32,(5,5),activation='relu',))\n",
        "\n",
        "#creating another layer , Add a pooling layer\n",
        "\n",
        "model.add(MaxPooling2D(pool_size = (2,2)))\n",
        "\n",
        "#Add a flattening layer\n",
        "#Flattening the input making it 1D , so if we have 10x10 matrix , we can create a straight layer of 100 units.\n",
        "#Flattening is used to convert all the resultant 2-Dimensional arrays from pooled feature maps into a single long continuous linear vector\n",
        "model.add(Flatten())\n",
        "\n",
        "#Adding a layer with 1000 neurons\n",
        "#Neurons in deep learning models are nodes through which data and computations flow\n",
        "model.add(Dense(1000,activation='relu'))\n",
        "\n",
        "#Adding a dropout layer with 50% dropout rate\n",
        "#The fraction of neurons to be zeroed out is known as the dropout rate\n",
        "model.add(Dropout(0.5))\n",
        "\n",
        "#Adding a layer with 500 neurons\n",
        "\n",
        "model.add(Dense(500,activation='relu'))\n",
        "\n",
        "#Adding a dropout layer with 50% dropout rate\n",
        "model.add(Dropout(0.5))\n",
        "\n",
        "#Adding a layer with 250 neurons\n",
        "\n",
        "model.add(Dense(250,activation='relu'))\n",
        "\n",
        "#Adding a layer with 10 neurons\n",
        "#10 units for 10 possible classification units || softmax sales all the result add up to 1 , used in the output of the last layer \n",
        "#used as the activation function for multi-class classification problems where class membership is required on more than two class labels\n",
        "model.add(Dense(10,activation='softmax'))\n",
        "\n"
      ],
      "metadata": {
        "id": "J76upbRvKolu"
      },
      "execution_count": null,
      "outputs": []
    },
    {
      "cell_type": "code",
      "source": [
        "#Compile the model\n",
        "#Used as a loss function for multi-class classification model where there are two or more output labels\n",
        "#Adam optimizer involves a combination of two gradient descent methodologies\n",
        "#Calculates how often predictions equal labels\n",
        "model.compile(loss = 'categorical_crossentropy',\n",
        "              optimizer = 'adam',\n",
        "              metrics = ['accuracy'])"
      ],
      "metadata": {
        "id": "65_q_pTRNrih"
      },
      "execution_count": null,
      "outputs": []
    },
    {
      "cell_type": "code",
      "source": [
        "#Train the model\n",
        "#epochs - indicates the number of passes of the entire training dataset the machine learning algorithm has completed\n",
        "#the number of training examples utilized in one iteration\n",
        "#Split Validation is a way to predict the fit of a model to a hypothetical testing set when an explicit testing set is not available\n",
        "hist = model.fit(x_train,y_train_one_hot,\n",
        "                 batch_size = 256,\n",
        "                 epochs=10,\n",
        "                 validation_split = 0.2)"
      ],
      "metadata": {
        "id": "AspVYBKVN-du"
      },
      "execution_count": null,
      "outputs": []
    },
    {
      "cell_type": "code",
      "source": [
        "#Evaluate the model using the test data set\n",
        "\n",
        "model.evaluate(x_test,y_test_one_hot)[1]"
      ],
      "metadata": {
        "id": "azU9UYezQbYS"
      },
      "execution_count": null,
      "outputs": []
    },
    {
      "cell_type": "code",
      "source": [
        "#visualize the models accuracy\n",
        "plt.plot(hist.history['accuracy'])\n",
        "plt.plot(hist.history['val_accuracy'])\n",
        "plt.title('Model_Accuracy')\n",
        "plt.ylabel('Accuracy')\n",
        "plt.xlabel('Epoch')\n",
        "plt.legend(['Train','Val'],loc='upper left')\n",
        "plt.show()"
      ],
      "metadata": {
        "id": "5DAPRULyQvZ9"
      },
      "execution_count": null,
      "outputs": []
    },
    {
      "cell_type": "code",
      "source": [
        "#Visualize the models loss\n",
        "#It's basically the predictions error of the nueral network\n",
        "plt.plot(hist.history['loss'])\n",
        "plt.plot(hist.history['val_loss'])\n",
        "plt.title('Model_Loss')\n",
        "plt.ylabel('Loss')\n",
        "plt.xlabel('Epoch')\n",
        "plt.legend(['Train','Val'],loc='upper right')\n",
        "plt.show()"
      ],
      "metadata": {
        "id": "fzstwcifRgQm"
      },
      "execution_count": null,
      "outputs": []
    },
    {
      "cell_type": "code",
      "source": [
        "#Test the mdoel with an example\n",
        "\n",
        "from google.colab import files\n",
        "\n",
        "uploaded = files.upload()"
      ],
      "metadata": {
        "id": "929itLlvR_g8"
      },
      "execution_count": null,
      "outputs": []
    },
    {
      "cell_type": "code",
      "source": [
        "#show the image\n",
        "new_images = plt.imread('cat.jpeg')\n",
        "img = plt.imshow(new_images)"
      ],
      "metadata": {
        "id": "wdKoXYI8SiNd"
      },
      "execution_count": null,
      "outputs": []
    },
    {
      "cell_type": "code",
      "source": [
        "#Resize the image\n",
        "from skimage.transform import resize\n",
        "resized_image = resize(new_images,(32,32,3))\n",
        "img = plt.imshow(resized_image)"
      ],
      "metadata": {
        "id": "cmjZCuOtS2up"
      },
      "execution_count": null,
      "outputs": []
    },
    {
      "cell_type": "code",
      "source": [
        "#Get the models predictions\n",
        "predictions = model.predict(np.array([resized_image]))\n",
        "#show the predictions\n",
        "predictions"
      ],
      "metadata": {
        "id": "r_EIjxz_TVIF"
      },
      "execution_count": null,
      "outputs": []
    },
    {
      "cell_type": "code",
      "source": [
        "#sort the predictions from least to greatest\n",
        "#classification = ['airplanes','automobile','bird','cat','deer','dog','frog','horse','ship','truck']\n",
        "\n",
        "list_index = [0,1,2,3,4,5,6,7,8,9]\n",
        "x = predictions\n",
        "\n",
        "for i in range(10):\n",
        "  for j in range(10):\n",
        "    if x[0][list_index[i]] > x[0][list_index[j]]:\n",
        "      temp = list_index[i]\n",
        "      list_index[i] = list_index[j]\n",
        "      list_index[j] = temp\n",
        "\n",
        "\n",
        "#show the sorted labels in order\n",
        "print(list_index)\n"
      ],
      "metadata": {
        "id": "fpI4z-iRT3xp"
      },
      "execution_count": null,
      "outputs": []
    },
    {
      "cell_type": "code",
      "source": [
        "#print the first five predictions\n",
        "\n",
        "for i in range(5):\n",
        "  print(classification[list_index[i]], ':' , round(predictions[0][list_index[i]] * 100), '%')"
      ],
      "metadata": {
        "id": "0SBLjOGqU30U"
      },
      "execution_count": null,
      "outputs": []
    }
  ]
}